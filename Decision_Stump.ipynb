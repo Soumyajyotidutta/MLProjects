{
 "cells": [
  {
   "cell_type": "code",
   "execution_count": 113,
   "id": "c51ec1bf",
   "metadata": {},
   "outputs": [],
   "source": [
    "import numpy as np\n",
    "import pandas as pd\n",
    "import matplotlib.pyplot as plt\n",
    "import pickle"
   ]
  },
  {
   "cell_type": "code",
   "execution_count": 160,
   "id": "e1abdec4",
   "metadata": {},
   "outputs": [
    {
     "data": {
      "text/plain": [
       "0.42924"
      ]
     },
     "execution_count": 160,
     "metadata": {},
     "output_type": "execute_result"
    }
   ],
   "source": [
    "df = pd.read_csv('/Users/soumyajyotidutta/Desktop/Academics/Spring23/Machine Learning/Homework 2/Traindata copy.csv')\n",
    "df_unsorted = df\n",
    "# create sorted dataframes w.r.t features  \n",
    "df = df.sort_values(by = 'X1', kind='mergesort') # X1 -> df1\n",
    "df1 = df.reset_index()\n",
    "\n",
    "df = df.sort_values(by = 'X2', kind='mergesort') # X2 -> df2\n",
    "df2 = df.reset_index()\n",
    "\n",
    "df = df.sort_values(by = 'X3', kind='mergesort') # X3 -> df3\n",
    "df3 = df.reset_index()\n",
    "\n",
    "df['X2'][1]"
   ]
  },
  {
   "cell_type": "code",
   "execution_count": 115,
   "id": "09cae8a1",
   "metadata": {},
   "outputs": [],
   "source": [
    "# sorted arrays\n",
    "arrX1 = np.array(df1['X1']) # X1\n",
    "arrX2 = np.array(df2['X2']) # X2\n",
    "arrX3 = np.array(df3['X3']) # X3\n",
    "arrY1 = np.array(df1['Y'])  # Y -> X1 \n",
    "arrY2 = np.array(df2['Y'])  # Y -> X2\n",
    "arrY3 = np.array(df3['Y'])  # Y -> X3"
   ]
  },
  {
   "cell_type": "code",
   "execution_count": 116,
   "id": "44a00715",
   "metadata": {},
   "outputs": [],
   "source": [
    "# the map of individual sorted features [arrays]\n",
    "featureDict = {\n",
    "    \"key1\" : arrX1,\n",
    "    \"key2\" : arrX2,\n",
    "    \"key3\" : arrX3,\n",
    "    \n",
    "}"
   ]
  },
  {
   "cell_type": "code",
   "execution_count": 117,
   "id": "1a3f43c8",
   "metadata": {},
   "outputs": [],
   "source": [
    "# access items of the map\n",
    "def accessMap(x: dict, iteration_count: int):\n",
    "    if iteration_count == 1:\n",
    "        x = np.array(featureDict[\"key1\"])\n",
    "    elif iteration_count == 2:\n",
    "        x = np.array(featureDict[\"key2\"])\n",
    "    else:\n",
    "        x = np.array(featureDict[\"key3\"])\n",
    "    return x"
   ]
  },
  {
   "cell_type": "code",
   "execution_count": 118,
   "id": "17512581",
   "metadata": {},
   "outputs": [],
   "source": [
    "# function for deciding Y to utilize in function for F\n",
    "def decideY(iteration_count):\n",
    "    if iteration_count == 1:\n",
    "        array = arrY1\n",
    "    elif iteration_count == 2:\n",
    "        array = arrY2\n",
    "    else:\n",
    "        array = arrY3\n",
    "    return array"
   ]
  },
  {
   "cell_type": "code",
   "execution_count": 119,
   "id": "4a4c1bb6",
   "metadata": {},
   "outputs": [],
   "source": [
    "# function for 'F'\n",
    "def getF(iteration_count):\n",
    "    F = 0\n",
    "    array = decideY(iteration_count) # calls decideY function\n",
    "    for i in range(len(array)):\n",
    "        if array[i] == 1:\n",
    "            F = F+D\n",
    "    return F"
   ]
  },
  {
   "cell_type": "code",
   "execution_count": 253,
   "id": "db016835",
   "metadata": {},
   "outputs": [],
   "source": [
    "# initialize constants\n",
    "D, F_star = 1/500, np.Infinity\n",
    "theta_star = 0\n",
    "j_star = 0\n",
    "list1 = []\n",
    "# decision stump to generate optimal threshold and the best feature \n",
    "for j in range(1,4):\n",
    "    F_star = np.Infinity\n",
    "    iteration_count = j\n",
    "    array_of_X = accessMap(featureDict, iteration_count)\n",
    "    array_of_Y = decideY(iteration_count)\n",
    "    F = getF(iteration_count)\n",
    "    if F < F_star:\n",
    "        F_star = F \n",
    "        theta_star = array_of_X[0] - 1\n",
    "        j_star = j\n",
    "    for i in range (len(array_of_X) - 1):\n",
    "        F = F - array_of_Y[i]*D\n",
    "        if F < F_star and array_of_X[i] != array_of_X[i+1]:\n",
    "            F_star = F\n",
    "            theta_star = 0.5*(array_of_X[i] + array_of_X[i+1])\n",
    "            j_star = j\n",
    "    list1.append(theta_star)       \n",
    "    \n",
    "    output = {\n",
    "        'Optimal Threshold': list1,\n",
    "        'Best Feature': j_star\n",
    "    }"
   ]
  },
  {
   "cell_type": "code",
   "execution_count": 254,
   "id": "5e8c2223",
   "metadata": {},
   "outputs": [
    {
     "name": "stdout",
     "output_type": "stream",
     "text": [
      "Optimal Threshold is [0.723765, 0.43848, 0.49838] \n",
      " Best Feature is Feature No. 3\n"
     ]
    }
   ],
   "source": [
    "OPT_Thresh = output['Optimal Threshold'] \n",
    "Best_Feature = output['Best Feature'] \n",
    "print(f\"Optimal Threshold is {OPT_Thresh} \\n Best Feature is Feature No. {Best_Feature}\")"
   ]
  },
  {
   "cell_type": "code",
   "execution_count": 255,
   "id": "15c13167",
   "metadata": {},
   "outputs": [],
   "source": [
    "# classify data w.r.t Optimal Threshold - generate yHat [classified labels]\n",
    "#X1\n",
    "label_X1 = np.array(df1['X1'])\n",
    "yHat_X1 = []\n",
    "thresh_X1 = list1[0]\n",
    "\n",
    "#X2\n",
    "label_X2 = np.array(df2['X2'])\n",
    "yHat_X2 = []\n",
    "thresh_X2 = list1[1]\n",
    "\n",
    "#X3\n",
    "label_X3 = np.array(df3['X3'])\n",
    "yHat_X3 = []\n",
    "thresh_X3 = list1[2]"
   ]
  },
  {
   "cell_type": "code",
   "execution_count": 256,
   "id": "722bf761",
   "metadata": {},
   "outputs": [],
   "source": [
    "def yHat(feature: np.array, yHat_Feature: list, thresh: float):\n",
    "    for i in range(len(feature)):\n",
    "        if feature[i] >= thresh:\n",
    "            yHat_Feature.append(-1)\n",
    "        else:\n",
    "            yHat_Feature.append(1)\n",
    "    return yHat_Feature"
   ]
  },
  {
   "cell_type": "code",
   "execution_count": 266,
   "id": "2b274591",
   "metadata": {},
   "outputs": [],
   "source": [
    "YHat_X1 = np.array(yHat(label_X1, yHat_X1, thresh_X1))\n",
    "YHat_X1 = pd.DataFrame(YHat_X1)\n",
    "df1['yHat'] = YHat_X1"
   ]
  },
  {
   "cell_type": "code",
   "execution_count": 258,
   "id": "ca712905",
   "metadata": {},
   "outputs": [],
   "source": [
    "YHat_X2 = np.array(yHat(label_X2, yHat_X2, thresh_X2))\n",
    "YHat_X2 = pd.DataFrame(YHat_X2)\n",
    "df2['yHat'] = YHat_X2"
   ]
  },
  {
   "cell_type": "code",
   "execution_count": 259,
   "id": "9d19f1ba",
   "metadata": {},
   "outputs": [],
   "source": [
    "YHat_X3 = np.array(yHat(label_X3, yHat_X3, thresh_X3))\n",
    "YHat_X3 = pd.DataFrame(YHat_X3)\n",
    "df3['yHat'] = YHat_X3"
   ]
  },
  {
   "cell_type": "code",
   "execution_count": 260,
   "id": "6e9a90fa",
   "metadata": {},
   "outputs": [],
   "source": [
    "def errorFunc(x: np.array, y: np.array):\n",
    "    count = 0\n",
    "    for i in range (len(x)):\n",
    "        if y[i] != x[i]:\n",
    "            count += 1\n",
    "    return count/len(x)"
   ]
  },
  {
   "cell_type": "code",
   "execution_count": 261,
   "id": "7d467e6b",
   "metadata": {},
   "outputs": [
    {
     "name": "stdout",
     "output_type": "stream",
     "text": [
      "Training Error for X1: 0.472\n",
      "Training Error for X2: 0.472\n",
      "Training Error for X3: 0.0\n"
     ]
    }
   ],
   "source": [
    "print(f\"Training Error for X1: {errorFunc(np.array(df1['Y']), np.array(df1['yHat']))}\")\n",
    "print(f\"Training Error for X2: {errorFunc(np.array(df2['Y']), np.array(df2['yHat']))}\")\n",
    "print(f\"Training Error for X3: {errorFunc(np.array(df3['Y']), np.array(df3['yHat']))}\")"
   ]
  },
  {
   "cell_type": "code",
   "execution_count": 264,
   "id": "d245f163",
   "metadata": {},
   "outputs": [],
   "source": [
    "# df3.plot(kind ='scatter',x = 'X3', y = 'Y')\n",
    "# df3.plot(kind ='scatter',x = 'X3', y = 'yHat')\n",
    "# plt.show()"
   ]
  },
  {
   "cell_type": "markdown",
   "id": "6232ce6b",
   "metadata": {},
   "source": [
    "# Test"
   ]
  },
  {
   "cell_type": "code",
   "execution_count": 279,
   "id": "981685da",
   "metadata": {},
   "outputs": [],
   "source": [
    "df_test = pd.read_csv('/Users/soumyajyotidutta/Desktop/Academics/Spring23/Machine Learning/Homework 2/Testdata.csv')\n",
    "\n",
    "# classify data w.r.t Optimal Threshold - generate yHat [classified labels]\n",
    "#X1\n",
    "labelX1 = np.array(df_test['X1'])\n",
    "yHatX1 = []\n",
    "threshX1 = list1[0]\n",
    "\n",
    "#X2\n",
    "labelX2 = np.array(df_test['X2'])\n",
    "yHatX2 = []\n",
    "threshX2 = list1[1]\n",
    "\n",
    "#X3\n",
    "labelX3 = np.array(df_test['X3'])\n",
    "yHatX3 = []\n",
    "threshX3 = list1[2]\n"
   ]
  },
  {
   "cell_type": "code",
   "execution_count": 280,
   "id": "70470bc8",
   "metadata": {},
   "outputs": [],
   "source": [
    "YHatX1 = np.array(yHat(labelX1, yHatX1, threshX1))\n",
    "YHatX1 = pd.DataFrame(YHatX1)\n",
    "df_test['yHat1'] = YHatX1"
   ]
  },
  {
   "cell_type": "code",
   "execution_count": 281,
   "id": "373b0350",
   "metadata": {},
   "outputs": [],
   "source": [
    "YHatX2 = np.array(yHat(labelX2, yHatX2, threshX2))\n",
    "YHatX2 = pd.DataFrame(YHatX2)\n",
    "df_test['yHat2'] = YHatX2"
   ]
  },
  {
   "cell_type": "code",
   "execution_count": 282,
   "id": "f794d3cf",
   "metadata": {},
   "outputs": [],
   "source": [
    "YHatX3 = np.array(yHat(labelX3, yHatX3, threshX3))\n",
    "YHatX3 = pd.DataFrame(YHatX3)\n",
    "df_test['yHat3'] = YHatX3"
   ]
  },
  {
   "cell_type": "code",
   "execution_count": 283,
   "id": "7b7d2d39",
   "metadata": {},
   "outputs": [
    {
     "data": {
      "text/html": [
       "<div>\n",
       "<style scoped>\n",
       "    .dataframe tbody tr th:only-of-type {\n",
       "        vertical-align: middle;\n",
       "    }\n",
       "\n",
       "    .dataframe tbody tr th {\n",
       "        vertical-align: top;\n",
       "    }\n",
       "\n",
       "    .dataframe thead th {\n",
       "        text-align: right;\n",
       "    }\n",
       "</style>\n",
       "<table border=\"1\" class=\"dataframe\">\n",
       "  <thead>\n",
       "    <tr style=\"text-align: right;\">\n",
       "      <th></th>\n",
       "      <th>X1</th>\n",
       "      <th>X2</th>\n",
       "      <th>X3</th>\n",
       "      <th>Y</th>\n",
       "      <th>yHat1</th>\n",
       "      <th>yHat2</th>\n",
       "      <th>yHat3</th>\n",
       "    </tr>\n",
       "  </thead>\n",
       "  <tbody>\n",
       "    <tr>\n",
       "      <th>0</th>\n",
       "      <td>0.420560</td>\n",
       "      <td>0.678490</td>\n",
       "      <td>0.158190</td>\n",
       "      <td>1</td>\n",
       "      <td>1</td>\n",
       "      <td>-1</td>\n",
       "      <td>1</td>\n",
       "    </tr>\n",
       "    <tr>\n",
       "      <th>1</th>\n",
       "      <td>0.283850</td>\n",
       "      <td>0.055688</td>\n",
       "      <td>0.479560</td>\n",
       "      <td>1</td>\n",
       "      <td>1</td>\n",
       "      <td>1</td>\n",
       "      <td>1</td>\n",
       "    </tr>\n",
       "    <tr>\n",
       "      <th>2</th>\n",
       "      <td>0.048181</td>\n",
       "      <td>0.034057</td>\n",
       "      <td>0.249340</td>\n",
       "      <td>1</td>\n",
       "      <td>1</td>\n",
       "      <td>1</td>\n",
       "      <td>1</td>\n",
       "    </tr>\n",
       "    <tr>\n",
       "      <th>3</th>\n",
       "      <td>0.219170</td>\n",
       "      <td>0.286520</td>\n",
       "      <td>0.369300</td>\n",
       "      <td>1</td>\n",
       "      <td>1</td>\n",
       "      <td>1</td>\n",
       "      <td>1</td>\n",
       "    </tr>\n",
       "    <tr>\n",
       "      <th>4</th>\n",
       "      <td>0.239180</td>\n",
       "      <td>0.077390</td>\n",
       "      <td>0.006378</td>\n",
       "      <td>1</td>\n",
       "      <td>1</td>\n",
       "      <td>1</td>\n",
       "      <td>1</td>\n",
       "    </tr>\n",
       "    <tr>\n",
       "      <th>...</th>\n",
       "      <td>...</td>\n",
       "      <td>...</td>\n",
       "      <td>...</td>\n",
       "      <td>...</td>\n",
       "      <td>...</td>\n",
       "      <td>...</td>\n",
       "      <td>...</td>\n",
       "    </tr>\n",
       "    <tr>\n",
       "      <th>95</th>\n",
       "      <td>0.579970</td>\n",
       "      <td>0.070755</td>\n",
       "      <td>0.740450</td>\n",
       "      <td>-1</td>\n",
       "      <td>1</td>\n",
       "      <td>1</td>\n",
       "      <td>-1</td>\n",
       "    </tr>\n",
       "    <tr>\n",
       "      <th>96</th>\n",
       "      <td>0.328540</td>\n",
       "      <td>0.378790</td>\n",
       "      <td>0.940420</td>\n",
       "      <td>-1</td>\n",
       "      <td>1</td>\n",
       "      <td>1</td>\n",
       "      <td>-1</td>\n",
       "    </tr>\n",
       "    <tr>\n",
       "      <th>97</th>\n",
       "      <td>0.268190</td>\n",
       "      <td>0.268170</td>\n",
       "      <td>0.640340</td>\n",
       "      <td>-1</td>\n",
       "      <td>1</td>\n",
       "      <td>1</td>\n",
       "      <td>-1</td>\n",
       "    </tr>\n",
       "    <tr>\n",
       "      <th>98</th>\n",
       "      <td>0.550240</td>\n",
       "      <td>0.152920</td>\n",
       "      <td>0.799570</td>\n",
       "      <td>-1</td>\n",
       "      <td>1</td>\n",
       "      <td>1</td>\n",
       "      <td>-1</td>\n",
       "    </tr>\n",
       "    <tr>\n",
       "      <th>99</th>\n",
       "      <td>0.180520</td>\n",
       "      <td>0.631000</td>\n",
       "      <td>0.513110</td>\n",
       "      <td>-1</td>\n",
       "      <td>1</td>\n",
       "      <td>-1</td>\n",
       "      <td>-1</td>\n",
       "    </tr>\n",
       "  </tbody>\n",
       "</table>\n",
       "<p>100 rows × 7 columns</p>\n",
       "</div>"
      ],
      "text/plain": [
       "          X1        X2        X3  Y  yHat1  yHat2  yHat3\n",
       "0   0.420560  0.678490  0.158190  1      1     -1      1\n",
       "1   0.283850  0.055688  0.479560  1      1      1      1\n",
       "2   0.048181  0.034057  0.249340  1      1      1      1\n",
       "3   0.219170  0.286520  0.369300  1      1      1      1\n",
       "4   0.239180  0.077390  0.006378  1      1      1      1\n",
       "..       ...       ...       ... ..    ...    ...    ...\n",
       "95  0.579970  0.070755  0.740450 -1      1      1     -1\n",
       "96  0.328540  0.378790  0.940420 -1      1      1     -1\n",
       "97  0.268190  0.268170  0.640340 -1      1      1     -1\n",
       "98  0.550240  0.152920  0.799570 -1      1      1     -1\n",
       "99  0.180520  0.631000  0.513110 -1      1     -1     -1\n",
       "\n",
       "[100 rows x 7 columns]"
      ]
     },
     "execution_count": 283,
     "metadata": {},
     "output_type": "execute_result"
    }
   ],
   "source": [
    "df_test"
   ]
  },
  {
   "cell_type": "code",
   "execution_count": 285,
   "id": "1f305e06",
   "metadata": {},
   "outputs": [
    {
     "name": "stdout",
     "output_type": "stream",
     "text": [
      "Test Error for X1: 0.52\n",
      "Test Error for X2: 0.52\n",
      "Test Error for X3: 0.0\n"
     ]
    }
   ],
   "source": [
    "print(f\"Test Error for X1: {errorFunc(np.array(df_test['Y']), np.array(df_test['yHat1']))}\")\n",
    "print(f\"Test Error for X2: {errorFunc(np.array(df_test['Y']), np.array(df_test['yHat2']))}\")\n",
    "print(f\"Test Error for X3: {errorFunc(np.array(df_test['Y']), np.array(df_test['yHat3']))}\")"
   ]
  },
  {
   "cell_type": "code",
   "execution_count": null,
   "id": "67805336",
   "metadata": {},
   "outputs": [],
   "source": []
  }
 ],
 "metadata": {
  "kernelspec": {
   "display_name": "Python 3 (ipykernel)",
   "language": "python",
   "name": "python3"
  },
  "language_info": {
   "codemirror_mode": {
    "name": "ipython",
    "version": 3
   },
   "file_extension": ".py",
   "mimetype": "text/x-python",
   "name": "python",
   "nbconvert_exporter": "python",
   "pygments_lexer": "ipython3",
   "version": "3.11.0"
  }
 },
 "nbformat": 4,
 "nbformat_minor": 5
}
