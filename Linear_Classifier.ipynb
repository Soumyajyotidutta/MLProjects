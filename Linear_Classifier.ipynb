{
  "nbformat": 4,
  "nbformat_minor": 0,
  "metadata": {
    "colab": {
      "provenance": [],
      "authorship_tag": "ABX9TyPtTrkRKqVrXBFTpzV3x1f1",
      "include_colab_link": true
    },
    "kernelspec": {
      "name": "python3",
      "display_name": "Python 3"
    },
    "language_info": {
      "name": "python"
    }
  },
  "cells": [
    {
      "cell_type": "markdown",
      "metadata": {
        "id": "view-in-github",
        "colab_type": "text"
      },
      "source": [
        "<a href=\"https://colab.research.google.com/github/Soumyajyotidutta/MLProjects/blob/main/Linear_Classifier.ipynb\" target=\"_parent\"><img src=\"https://colab.research.google.com/assets/colab-badge.svg\" alt=\"Open In Colab\"/></a>"
      ]
    },
    {
      "cell_type": "code",
      "execution_count": null,
      "metadata": {
        "id": "q-0ynRJISls3"
      },
      "outputs": [],
      "source": [
        "import pandas as pd\n",
        "import numpy as np\n",
        "import matplotlib.pyplot as plt"
      ]
    },
    {
      "cell_type": "code",
      "source": [
        "df = pd.read_csv('/content/cancer2.csv')\n",
        "print(df)"
      ],
      "metadata": {
        "id": "uHFExpo_VNyr"
      },
      "execution_count": null,
      "outputs": []
    },
    {
      "cell_type": "code",
      "source": [
        "df0 = df [0:21]\n",
        "print(df0)"
      ],
      "metadata": {
        "id": "BM1hw_mtguUB"
      },
      "execution_count": null,
      "outputs": []
    },
    {
      "cell_type": "code",
      "source": [
        "df1 = df [21:38]\n",
        "print(df1)"
      ],
      "metadata": {
        "id": "eOlWnUFGgzPG"
      },
      "execution_count": null,
      "outputs": []
    },
    {
      "cell_type": "code",
      "source": [
        "print(df0.mean())\n",
        "print(df1.mean())\n",
        "print(df.mean())"
      ],
      "metadata": {
        "id": "ucBT-SsssmI2"
      },
      "execution_count": null,
      "outputs": []
    },
    {
      "cell_type": "code",
      "source": [
        "'''m0 = pd.DataFrame(np.array([[0, -0.494776, 0.398438]]), \n",
        "                  columns=['label', 'contig55377_RC', 'NM_003981'])\n",
        "m0['label'] = m0['label'].astype(int)\n",
        "new_m0 = pd.DataFrame(np.repeat(m0.values, 21, axis=0))\n",
        "new_m0.columns = m0.columns\n",
        "new_m0['label'] = new_m0['label'].astype(int)\n",
        "print(new_m0)'''"
      ],
      "metadata": {
        "id": "YP7QqDhZg-Ms"
      },
      "execution_count": null,
      "outputs": []
    },
    {
      "cell_type": "code",
      "source": [
        "'''m1 = pd.DataFrame(np.array([[1, 0.611188, -0.4922]]), \n",
        "                  columns=['label', 'contig55377_RC', 'NM_003981'])\n",
        "m1['label'] = m1['label'].astype(int)\n",
        "new_m1 = pd.DataFrame(np.repeat(m1.values, 21, axis=0))\n",
        "new_m1.columns = m1.columns\n",
        "new_m1['label'] = new_m1['label'].astype(int)\n",
        "print(new_m1)'''"
      ],
      "metadata": {
        "id": "dLOkvz6PE9dI"
      },
      "execution_count": null,
      "outputs": []
    },
    {
      "cell_type": "code",
      "source": [
        "sr0 = pd.Series([0, -0.494776, 0.398438],  index=[\"label\", \"contig55377_RC\", \"NM_003981\"])\n",
        "print(sr0)\n",
        "sr1 = pd.Series([0, 0.611188, -0.492200],  index=[\"label\", \"contig55377_RC\", \"NM_003981\"])\n",
        "print(sr1)"
      ],
      "metadata": {
        "id": "flL5B2d7Njfh"
      },
      "execution_count": null,
      "outputs": []
    },
    {
      "cell_type": "code",
      "source": [
        "s0x = df0.subtract(sr0, axis =1)\n",
        "s0x.drop('label', axis=1, inplace=True)\n",
        "s0x_T = s0x.T\n",
        "print(s0x)\n",
        "print(s0x_T)"
      ],
      "metadata": {
        "id": "O0MpIE2u-F3u"
      },
      "execution_count": null,
      "outputs": []
    },
    {
      "cell_type": "code",
      "source": [
        "s1x = df1.subtract(sr1, axis =1)\n",
        "s1x.drop('label', axis=1, inplace=True)\n",
        "s1x_T = s1x.T\n",
        "print(s1x)\n",
        "print(s1x_T)"
      ],
      "metadata": {
        "id": "klrETbw5O4sE"
      },
      "execution_count": null,
      "outputs": []
    },
    {
      "cell_type": "code",
      "source": [
        "s0x_1 = s0x.to_numpy()"
      ],
      "metadata": {
        "id": "2cPsbug_SfDe"
      },
      "execution_count": null,
      "outputs": []
    },
    {
      "cell_type": "code",
      "source": [
        "s1x_1 = s1x.to_numpy()"
      ],
      "metadata": {
        "id": "dAt3JateSs8I"
      },
      "execution_count": null,
      "outputs": []
    },
    {
      "cell_type": "code",
      "source": [
        "s0x_1T = s0x_T.to_numpy()"
      ],
      "metadata": {
        "id": "GVz2I5QLSmOq"
      },
      "execution_count": null,
      "outputs": []
    },
    {
      "cell_type": "code",
      "source": [
        "s1x_1T = s1x_T.to_numpy()"
      ],
      "metadata": {
        "id": "ANBtKC76Svbh"
      },
      "execution_count": null,
      "outputs": []
    },
    {
      "cell_type": "code",
      "source": [
        "s0 = np.matmul(s0x_1, s0x_1T)\n",
        "print(s0)"
      ],
      "metadata": {
        "id": "mk6GNnXPTamY"
      },
      "execution_count": null,
      "outputs": []
    },
    {
      "cell_type": "code",
      "source": [
        "s1 = np.matmul(s1x_1, s1x_1T)\n",
        "print(s1)"
      ],
      "metadata": {
        "id": "xS2mJ0pmUtCV"
      },
      "execution_count": null,
      "outputs": []
    },
    {
      "cell_type": "code",
      "source": [
        "df.plot.scatter(x = 'x1', y = 'x2', c='Label', \n",
        "                colormap='jet', sharex=False)"
      ],
      "metadata": {
        "colab": {
          "base_uri": "https://localhost:8080/",
          "height": 300
        },
        "id": "3a-E6yA7VOZv",
        "outputId": "1a318e8c-2629-417b-e55d-51c1466bba8b"
      },
      "execution_count": null,
      "outputs": [
        {
          "output_type": "execute_result",
          "data": {
            "text/plain": [
              "<matplotlib.axes._subplots.AxesSubplot at 0x7fc7ed576410>"
            ]
          },
          "metadata": {},
          "execution_count": 7
        },
        {
          "output_type": "display_data",
          "data": {
            "text/plain": [
              "<Figure size 432x288 with 2 Axes>"
            ],
            "image/png": "[encoded data removed]"
          },
          "metadata": {
            "needs_background": "light"
          }
        }
      ]
    }
  ]
}