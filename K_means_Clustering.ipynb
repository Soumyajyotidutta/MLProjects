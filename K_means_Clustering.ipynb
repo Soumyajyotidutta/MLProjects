{
  "nbformat": 4,
  "nbformat_minor": 0,
  "metadata": {
    "colab": {
      "provenance": [],
      "authorship_tag": "ABX9TyMeMOjqK7XxB0BXrfQMiCZC",
      "include_colab_link": true
    },
    "kernelspec": {
      "name": "python3",
      "display_name": "Python 3"
    },
    "language_info": {
      "name": "python"
    }
  },
  "cells": [
    {
      "cell_type": "markdown",
      "metadata": {
        "id": "view-in-github",
        "colab_type": "text"
      },
      "source": [
        "<a href=\"https://colab.research.google.com/github/Soumyajyotidutta/MLProjects/blob/main/K_means_Clustering.ipynb\" target=\"_parent\"><img src=\"https://colab.research.google.com/assets/colab-badge.svg\" alt=\"Open In Colab\"/></a>"
      ]
    },
    {
      "cell_type": "code",
      "execution_count": null,
      "metadata": {
        "id": "ee-iqhPv7cqu"
      },
      "outputs": [],
      "source": [
        "# import required libraries\n",
        "import numpy as np\n",
        "import matplotlib.pyplot as plt\n",
        "import pandas as pd \n",
        "from sklearn.decomposition import PCA\n",
        "from IPython.display import clear_output"
      ]
    },
    {
      "cell_type": "code",
      "source": [
        "# read and display data\n",
        "df = pd.read_csv(\"data0.csv\")\n",
        "df = df[0:35]\n",
        "print(df)"
      ],
      "metadata": {
        "id": "S9NSk3xh-5kO"
      },
      "execution_count": null,
      "outputs": []
    },
    {
      "cell_type": "code",
      "source": [
        "# feature selection\n",
        "features = [\"X\", \"Y\"]\n",
        "df = df.dropna(subset=features)\n",
        "data = df[features].copy()"
      ],
      "metadata": {
        "id": "ImdzVPMczTsS"
      },
      "execution_count": null,
      "outputs": []
    },
    {
      "cell_type": "code",
      "source": [
        "data"
      ],
      "metadata": {
        "id": "A3w2Uobd83Rt"
      },
      "execution_count": null,
      "outputs": []
    },
    {
      "cell_type": "code",
      "source": [
        "plt.scatter(data.X,data.Y)"
      ],
      "metadata": {
        "id": "SRCdPp3esd9F"
      },
      "execution_count": null,
      "outputs": []
    },
    {
      "cell_type": "markdown",
      "source": [
        "Algorithm: \n",
        "1. Data Scaling\n",
        "2. Initialize random centroids\n",
        "3. Label each data point\n",
        "4. Update centroids\n",
        "5. Repeat the step 3 and 4 until the centroids stop changing values."
      ],
      "metadata": {
        "id": "qlRdfr4J9xaG"
      }
    },
    {
      "cell_type": "code",
      "source": [
        "# scaling of available data - no column dominates the other\n",
        "data = ((((data - data.min()) / (data.max() - data.min()))*9) + 1)\n",
        "data.describe()"
      ],
      "metadata": {
        "id": "g93xLq149aze"
      },
      "execution_count": null,
      "outputs": []
    },
    {
      "cell_type": "code",
      "source": [
        "plt.scatter(data.X,data.Y)"
      ],
      "metadata": {
        "id": "fNVLgtlhsoLx"
      },
      "execution_count": null,
      "outputs": []
    },
    {
      "cell_type": "code",
      "source": [
        "# Initialize random centroids\n",
        "def random_centroids(data, k):\n",
        "  centroids = []\n",
        "  for i in range(k):\n",
        "    centroid = data.apply(lambda x: float(x.sample()))\n",
        "    centroids.append(centroid)\n",
        "  return pd.concat (centroids, axis = 1)\n",
        "centroids = random_centroids(data, 2)\n",
        "centroids"
      ],
      "metadata": {
        "id": "sqdPoU0N-xey"
      },
      "execution_count": null,
      "outputs": []
    },
    {
      "cell_type": "code",
      "source": [
        "'''centroids = pd.DataFrame(np.array([[1, 0], [0, 1]]),\n",
        "                    index=['X', 'Y'])\n",
        "centroids'''"
      ],
      "metadata": {
        "id": "1Zl5lWYCFkyV"
      },
      "execution_count": null,
      "outputs": []
    },
    {
      "cell_type": "code",
      "source": [
        "# distance\n",
        "def cluster_initiate(data, centroids):\n",
        "  distances = centroids.apply(\n",
        "    lambda x: np.sqrt(((data - centroids.iloc[:, 0]) ** 2).sum(axis=1)))\n",
        "  return distances.idxmin(axis = 1)"
      ],
      "metadata": {
        "id": "b53QMEIdM3hZ"
      },
      "execution_count": null,
      "outputs": []
    },
    {
      "cell_type": "code",
      "source": [
        "# check the cluster arrangement\n",
        "labels = cluster_initiate (data, centroids)\n",
        "# how many values in each of the clusters\n",
        "labels.value_counts()"
      ],
      "metadata": {
        "id": "aQCa1eK7U5p0"
      },
      "execution_count": null,
      "outputs": []
    },
    {
      "cell_type": "code",
      "source": [
        "# geometric mean\n",
        "def new_centroids(data, labels, k): \n",
        "  return data.groupby(labels).apply(lambda x: np.exp(np.log(x).mean())).T"
      ],
      "metadata": {
        "id": "d8I8NgPwVjLp"
      },
      "execution_count": null,
      "outputs": []
    },
    {
      "cell_type": "code",
      "source": [
        "# plotting the clusters for each iteration\n",
        "def plot_clusters(data, labels, centroids, iteration):\n",
        "  pca = PCA(n_components = 2)\n",
        "  data_2d = pca.fit_transform(data)\n",
        "  centroids_2d = pca.transform(centroids.T)\n",
        "  clear_output (wait = True)\n",
        "  plt.title(f'Iteration {iteration}')\n",
        "  plt.scatter(x = data_2d[:, 0], y = data_2d[:, 1], c=labels)\n",
        "  plt.scatter(x=centroids_2d[:, 0], y=centroids_2d[:, 1])\n",
        "  plt.show()"
      ],
      "metadata": {
        "id": "wXWGSFtxXnKM"
      },
      "execution_count": null,
      "outputs": []
    },
    {
      "cell_type": "code",
      "source": [
        "max_iterations = 10\n",
        "k = 2\n",
        "centroids = pd.DataFrame(np.array([[1, 0], [0, 1]]),\n",
        "                    index=['X', 'Y'])\n",
        "old_centroids = pd.DataFrame()\n",
        "iteration = 1\n",
        "\n",
        "while iteration < max_iterations and not centroids.equals(old_centroids):\n",
        "  old_centroids = centroids\n",
        "  labels = cluster_initiate(data, centroids)\n",
        "  centroids = new_centroids(data, labels, k)\n",
        "  plot_clusters(data, labels, centroids, iteration)\n",
        "\n",
        "  iteration += 1"
      ],
      "metadata": {
        "id": "b4WWo-vNY6zS"
      },
      "execution_count": null,
      "outputs": []
    }
  ]
}